{
 "cells": [
  {
   "cell_type": "markdown",
   "metadata": {
    "toc": true
   },
   "source": [
    "<h1>Table of Contents<span class=\"tocSkip\"></span></h1>\n",
    "<div class=\"toc\"><ul class=\"toc-item\"><li><span><a href=\"#Project:\" data-toc-modified-id=\"Project:-1\"><span class=\"toc-item-num\">1&nbsp;&nbsp;</span>Project:</a></span></li><li><span><a href=\"#Computational-details:\" data-toc-modified-id=\"Computational-details:-2\"><span class=\"toc-item-num\">2&nbsp;&nbsp;</span>Computational details:</a></span></li><li><span><a href=\"#Database:-Nobel-Prize-API\" data-toc-modified-id=\"Database:-Nobel-Prize-API-3\"><span class=\"toc-item-num\">3&nbsp;&nbsp;</span>Database: Nobel Prize API</a></span></li><li><span><a href=\"#Results:\" data-toc-modified-id=\"Results:-4\"><span class=\"toc-item-num\">4&nbsp;&nbsp;</span>Results:</a></span><ul class=\"toc-item\"><li><span><a href=\"#Missing-nobel-prizes\" data-toc-modified-id=\"Missing-nobel-prizes-4.1\"><span class=\"toc-item-num\">4.1&nbsp;&nbsp;</span>Missing nobel prizes</a></span></li><li><span><a href=\"#Winner-of-nobel-in-Physics:\" data-toc-modified-id=\"Winner-of-nobel-in-Physics:-4.2\"><span class=\"toc-item-num\">4.2&nbsp;&nbsp;</span>Winner of nobel in Physics:</a></span></li></ul></li></ul></div>"
   ]
  },
  {
   "cell_type": "markdown",
   "metadata": {},
   "source": [
    "# Project:\n",
    "List all the years and nobel prizes that were missing in that year with the below format. Compare each year with original one in 1901. \n",
    "\n",
    "In the first method we use the groupby python package and in the seccond one we use the grouping of MongoDb.\n",
    "In both cases we construct an aggregation pipeline to collect, in reverse chronological order (i.e., descending year), prize documents for all original categories (that is, $in categories awarded in 1901). Project only the prize year and category (including document _id is fine).\n",
    "\n",
    "\n",
    "1934: physics\n",
    "\n",
    "1933: chemistry\n",
    "\n",
    "1932: peace\n",
    "\n",
    "1931: physics\n",
    "\n",
    "1928: peace\n",
    "\n",
    "1925: medicine\n",
    "\n",
    "1924: chemistry, peace\n",
    "\n",
    "\n",
    "In the sccond project please find the list of winners in physics such as:\n",
    "\n",
    "2013: Englert and Higgs\n",
    "\n",
    "2012: Haroche and Wineland\n",
    "\n",
    "2011: Perlmutter and Riess and Schmidt\n",
    "\n",
    "2010: Geim and Novoselov\n",
    "\n",
    "2009: Boyle and Kao and Smith\n",
    "\n",
    "2008: Kobayashi and Maskawa and Nambu\n",
    "\n",
    "2007: Fert and Grünberg\n",
    "\n",
    "\n",
    "\n",
    "# Computational details:\n",
    "The aggregation cursor will be fed to Python's itertools.groupby function to group prizes by year. For each year that at least one of the original prize categories was missing, a line with all missing categories for that year will be printed.\n",
    "\n",
    "\n",
    "# Database: Nobel Prize API\n",
    "Nobelprize.org offers open data to developers in two ways: An API and as Linked Data. The data is free to use and contains information about who has been awarded the Nobel Prize, when, in what prize category and the motivation, as well as basic information about the Nobel Laureates such as birth data and the affiliation at the time of the award. The data is regularly updated as the information on Nobelprize.org is updated, including at the time of announcements of new Laureates.\n",
    "\n",
    "https://nobelprize.readme.io/docs/getting-started\n",
    "\n",
    "\n",
    "\n",
    "\n",
    "# Results:\n",
    "## Missing nobel prizes"
   ]
  },
  {
   "cell_type": "code",
   "execution_count": 59,
   "metadata": {},
   "outputs": [
    {
     "data": {
      "text/plain": [
       "['prizes', 'laureates']"
      ]
     },
     "execution_count": 59,
     "metadata": {},
     "output_type": "execute_result"
    }
   ],
   "source": [
    "import pymongo\n",
    "from pymongo import MongoClient\n",
    "client = MongoClient('localhost',27017)\n",
    "client.nobeldatacamp.list_collection_names()"
   ]
  },
  {
   "cell_type": "code",
   "execution_count": 67,
   "metadata": {},
   "outputs": [
    {
     "name": "stdout",
     "output_type": "stream",
     "text": [
      "number of documents in prize: 590\n",
      "number of documents in laureates: 934\n"
     ]
    }
   ],
   "source": [
    "#  Check how many documents are in each collection\n",
    "n_prizes = client.nobeldatacamp.prizes.count_documents({})\n",
    "n_laureates = client.nobeldatacamp.laureates.count_documents({})\n",
    "\n",
    "# Print the document\n",
    "print(\"number of documents in prize:\", n_prizes)\n",
    "print(\"number of documents in laureates:\", n_laureates)\n",
    "\n",
    "\n",
    "db = client.nobeldatacamp"
   ]
  },
  {
   "cell_type": "code",
   "execution_count": 74,
   "metadata": {},
   "outputs": [
    {
     "name": "stdout",
     "output_type": "stream",
     "text": [
      "['_id', 'year', 'category', 'overallMotivation', 'laureates']\n",
      "['_id', 'id', 'firstname', 'surname', 'born', 'died', 'bornCountry', 'bornCountryCode', 'bornCity', 'diedCountry', 'diedCountryCode', 'gender', 'prizes']\n"
     ]
    }
   ],
   "source": [
    "import requests\n",
    "\n",
    "# Get the list of fields present in each type of document\n",
    "prize_fields = list(prize.keys())\n",
    "laureate_fields = list(laureate.keys())\n",
    "\n",
    "print(prize_fields)\n",
    "print(laureate_fields)"
   ]
  },
  {
   "cell_type": "code",
   "execution_count": 73,
   "metadata": {},
   "outputs": [
    {
     "data": {
      "text/plain": [
       "{'_id': ObjectId('5edf82888b17802c1e585f46'),\n",
       " 'year': '2018',\n",
       " 'category': 'physics',\n",
       " 'overallMotivation': '“for groundbreaking inventions in the field of laser physics”',\n",
       " 'laureates': [{'id': '960',\n",
       "   'firstname': 'Arthur',\n",
       "   'surname': 'Ashkin',\n",
       "   'motivation': '\"for the optical tweezers and their application to biological systems\"',\n",
       "   'share': '2'},\n",
       "  {'id': '961',\n",
       "   'firstname': 'Gérard',\n",
       "   'surname': 'Mourou',\n",
       "   'motivation': '\"for their method of generating high-intensity, ultra-short optical pulses\"',\n",
       "   'share': '4'},\n",
       "  {'id': '962',\n",
       "   'firstname': 'Donna',\n",
       "   'surname': 'Strickland',\n",
       "   'motivation': '\"for their method of generating high-intensity, ultra-short optical pulses\"',\n",
       "   'share': '4'}]}"
      ]
     },
     "execution_count": 73,
     "metadata": {},
     "output_type": "execute_result"
    }
   ],
   "source": [
    "# Retrieve sample prize and laureate documents\n",
    "db.prizes.find_one()"
   ]
  },
  {
   "cell_type": "code",
   "execution_count": null,
   "metadata": {},
   "outputs": [],
   "source": []
  },
  {
   "cell_type": "code",
   "execution_count": 90,
   "metadata": {},
   "outputs": [
    {
     "name": "stdout",
     "output_type": "stream",
     "text": [
      "original 1901 {'literature', 'medicine', 'peace', 'chemistry', 'physics'}\n",
      "2018: literature\n",
      "1972: peace\n",
      "1967: peace\n",
      "1966: peace\n",
      "1956: peace\n",
      "1955: peace\n",
      "1948: peace\n",
      "1943: literature, peace\n",
      "1939: peace\n",
      "1935: literature\n",
      "1934: physics\n",
      "1933: chemistry\n",
      "1932: peace\n",
      "1931: physics\n",
      "1928: peace\n",
      "1925: medicine\n",
      "1924: chemistry, peace\n",
      "1923: peace\n",
      "1921: medicine\n",
      "1919: chemistry\n",
      "1918: literature, medicine, peace\n",
      "1917: chemistry, medicine\n",
      "1916: chemistry, medicine, peace, physics\n",
      "1915: medicine, peace\n",
      "1914: literature, peace\n"
     ]
    }
   ],
   "source": [
    "from collections import OrderedDict\n",
    "from itertools import groupby\n",
    "from operator import itemgetter\n",
    "\n",
    "original_categories = set(db.prizes.distinct(\"category\", {\"year\": \"1901\"}))\n",
    "print(\"original 1901\", original_categories)\n",
    "\n",
    "# Save an pipeline to collect original-category prizes\n",
    "pipeline = [\n",
    "    {\"$match\": {\"category\": {\"$in\": list(original_categories)}}},\n",
    "    {\"$project\": {\"category\": 1, \"year\": 1}},\n",
    "    {\"$sort\": OrderedDict([(\"year\", -1)])}\n",
    "]\n",
    "docs = db.prizes.aggregate(pipeline)\n",
    "\n",
    "for key, group in groupby(docs, key=itemgetter(\"year\")):\n",
    "    missing = original_categories - {doc[\"category\"] for doc in group}\n",
    "    if missing:\n",
    "        print(\"{year}: {missing}\".format(year=key, missing=\", \".join(sorted(missing))))"
   ]
  },
  {
   "cell_type": "code",
   "execution_count": 102,
   "metadata": {},
   "outputs": [
    {
     "name": "stdout",
     "output_type": "stream",
     "text": [
      "original 1901 ['chemistry', 'literature', 'medicine', 'peace', 'physics']\n",
      "2018: literature\n",
      "1972: peace\n",
      "1967: peace\n",
      "1966: peace\n",
      "1956: peace\n",
      "1955: peace\n",
      "1948: peace\n",
      "1943: literature, peace\n",
      "1939: peace\n",
      "1935: literature\n",
      "1934: physics\n",
      "1933: chemistry\n",
      "1932: peace\n",
      "1931: physics\n",
      "1928: peace\n",
      "1925: medicine\n",
      "1924: chemistry, peace\n",
      "1923: peace\n",
      "1921: medicine\n",
      "1919: chemistry\n",
      "1918: literature, medicine, peace\n",
      "1917: chemistry, medicine\n",
      "1916: chemistry, medicine, peace, physics\n",
      "1915: medicine, peace\n",
      "1914: literature, peace\n"
     ]
    }
   ],
   "source": [
    "import pymongo\n",
    "from pymongo import MongoClient\n",
    "from collections import OrderedDict\n",
    "\n",
    "original_categories = sorted(set(db.prizes.distinct(\"category\", {\"year\": \"1901\"})))\n",
    "print(\"original 1901\", original_categories)\n",
    "\n",
    "\n",
    "pipeline = [\n",
    "    {\"$match\": {\"category\": {\"$in\": original_categories}}},\n",
    "    {\"$project\": {\"category\": 1, \"year\": 1}},\n",
    "    \n",
    "    # Collect the set of category values for each prize year.\n",
    "    {\"$group\": {\"_id\": \"$year\", \"categories\": {\"$addToSet\": \"$category\"}}},\n",
    "    \n",
    "    # Project categories *not* awarded (i.e., that are missing this year).\n",
    "    {\"$project\": {\"missing\": {\"$setDifference\": [original_categories, \"$categories\"]}}},\n",
    "    \n",
    "    # Only include years with at least one missing category\n",
    "    {\"$match\": {\"missing.0\": {\"$exists\": True}}},\n",
    "    \n",
    "    # Sort in reverse chronological order. Note that \"_id\" is a distinct year at this stage.\n",
    "    {\"$sort\": OrderedDict([(\"_id\", -1)])},\n",
    "]\n",
    "\n",
    "docs = db.prizes.aggregate(pipeline)\n",
    "\n",
    "for doc in docs:\n",
    "    print(\"{year}: {missing}\".format(year=doc[\"_id\"],missing=\", \".join(sorted(doc[\"missing\"]))))"
   ]
  },
  {
   "cell_type": "markdown",
   "metadata": {},
   "source": [
    "## Winner of nobel in Physics:\n",
    "Sorting together: MongoDB + Python\n",
    "In this exercise we'll explore the prizes in the physics category. We have two sort in this excercise,  winners should be sorted base on the year and if in one year we have many winner they should be sorted by alphabet. We will use Python to sort laureates for one prize by last name, and then MongoDB to sort prizes by year.  On document of pryze s also  showed."
   ]
  },
  {
   "cell_type": "code",
   "execution_count": 76,
   "metadata": {},
   "outputs": [
    {
     "name": "stdout",
     "output_type": "stream",
     "text": [
      "Ashkin and Mourou and Strickland\n"
     ]
    }
   ],
   "source": [
    "from operator import itemgetter\n",
    "\n",
    "def all_laureates(prize):  \n",
    "  # sort the laureates by surname\n",
    "  sorted_laureates = sorted(prize[\"laureates\"], key=itemgetter(\"surname\"))\n",
    "  \n",
    "  # extract surnames\n",
    "  surnames = [laureate[\"surname\"] for laureate in sorted_laureates]\n",
    "  \n",
    "  # concatenate surnames separated with \" and \" \n",
    "  all_names = \" and \".join(surnames)\n",
    "  \n",
    "  return all_names\n",
    "\n",
    "# test the first document for the function\n",
    "print(all_laureates(db.prizes.find_one()))"
   ]
  },
  {
   "cell_type": "code",
   "execution_count": 79,
   "metadata": {},
   "outputs": [
    {
     "name": "stdout",
     "output_type": "stream",
     "text": [
      "2013: Englert and Higgs\n",
      "2012: Haroche and Wineland\n",
      "2011: Perlmutter and Riess and Schmidt\n",
      "2010: Geim and Novoselov\n",
      "2009: Boyle and Kao and Smith\n",
      "2008: Kobayashi and Maskawa and Nambu\n",
      "2007: Fert and Grünberg\n",
      "2006: Mather and Smoot\n",
      "2005: Glauber and Hall and Hänsch\n",
      "2004: Gross and Politzer and Wilczek\n",
      "2003: Abrikosov and Ginzburg and Leggett\n",
      "2002: Davis Jr. and Giacconi and Koshiba\n",
      "2001: Cornell and Ketterle and Wieman\n",
      "2000: Alferov and Kilby and Kroemer\n",
      "1999: 't Hooft and Veltman\n",
      "1998: Laughlin and Störmer and Tsui\n",
      "1997: Chu and Cohen-Tannoudji and Phillips\n",
      "1996: Lee and Osheroff and Richardson\n",
      "1995: Perl and Reines\n",
      "1994: Brockhouse and Shull\n"
     ]
    }
   ],
   "source": [
    "# find physics prizes, project year and name, and sort by year\n",
    "docs = db.prizes.find(\n",
    "           filter= {\"category\": \"physics\"}, \n",
    "           projection= [\"year\", \"laureates.surname\"], \n",
    "           sort= [(\"year\", -1)],\n",
    "           limit=20,\n",
    "           skip= 5\n",
    ")\n",
    "\n",
    "\n",
    "# print the year and laureate names (from all_laureates)\n",
    "for doc in docs:\n",
    "  print(\"{year}: {names}\".format(year=doc[\"year\"], names=all_laureates(doc)))"
   ]
  },
  {
   "cell_type": "code",
   "execution_count": null,
   "metadata": {},
   "outputs": [],
   "source": []
  }
 ],
 "metadata": {
  "kernelspec": {
   "display_name": "Python 3",
   "language": "python",
   "name": "python3"
  },
  "language_info": {
   "codemirror_mode": {
    "name": "ipython",
    "version": 3
   },
   "file_extension": ".py",
   "mimetype": "text/x-python",
   "name": "python",
   "nbconvert_exporter": "python",
   "pygments_lexer": "ipython3",
   "version": "3.7.0"
  },
  "toc": {
   "base_numbering": 1,
   "nav_menu": {},
   "number_sections": true,
   "sideBar": true,
   "skip_h1_title": false,
   "title_cell": "Table of Contents",
   "title_sidebar": "Contents",
   "toc_cell": true,
   "toc_position": {},
   "toc_section_display": true,
   "toc_window_display": true
  }
 },
 "nbformat": 4,
 "nbformat_minor": 2
}
